{
 "cells": [
  {
   "cell_type": "markdown",
   "metadata": {},
   "source": [
    "### Ejercicio 1:\n",
    "Implemente una función que busque un substring en otro por ejemplo 'ram' es una subcadena de 'Programar con python'\n"
   ]
  },
  {
   "cell_type": "code",
   "execution_count": null,
   "metadata": {
    "collapsed": true
   },
   "outputs": [],
   "source": []
  },
  {
   "cell_type": "markdown",
   "metadata": {},
   "source": [
    "### Ejercicio 2\n",
    "Escriba una función que reciba un string y regrese el mismo string escrito al reves usando un ciclo."
   ]
  },
  {
   "cell_type": "code",
   "execution_count": null,
   "metadata": {
    "collapsed": true
   },
   "outputs": [],
   "source": []
  },
  {
   "cell_type": "markdown",
   "metadata": {},
   "source": [
    "### Ejercicio 3\n",
    "Escriba una función que reciba un string y regrese una lista con las letras y el numero de ocurrencias de sus componentes\n",
    "Por ejemplo para el string 'foo fighters', la función debe regresar la lista '['f', 2, 'o', 2, ' ', 1, 'i', 1, 'g', 1, 'h', 1, 't', 1, 'e', 1, 'r', 1, 's', 1]'\n",
    "\n",
    "**Hint primero guarde las letras unicas del string y luego cuente las ocurrencias**\n",
    "\n",
    "# Quitar codigo\n",
    "<code>\n",
    "def conteo(string):\n",
    "    copia = ''\n",
    "    for i in string:\n",
    "        if i not in copia:\n",
    "            copia = copia + i\n",
    "    conteo = [0]*len(copia)\n",
    "    for i in string:\n",
    "        if i in copia:\n",
    "            conteo[copia.index(i)] = conteo[copia.index(i)] + 1\n",
    "    out = ['0']*2*len(copia)\n",
    "    for i in range(len(copia)):\n",
    "        out[2*i] = copia[i]\n",
    "        out[2*i + 1] = conteo[i]\n",
    "    return (out)\n",
    " </code>"
   ]
  },
  {
   "cell_type": "code",
   "execution_count": 67,
   "metadata": {
    "collapsed": true
   },
   "outputs": [],
   "source": [
    "def conteo(string):\n",
    "    copia = ''\n",
    "    for i in string:\n",
    "        if i not in copia:\n",
    "            copia = copia + i\n",
    "    conteo = [0]*len(copia)\n",
    "    for i in string:\n",
    "        if i in copia:\n",
    "            conteo[copia.index(i)] = conteo[copia.index(i)] + 1\n",
    "    out = ['0']*2*len(copia)\n",
    "    for i in range(len(copia)):\n",
    "        out[2*i] = copia[i]\n",
    "        out[2*i + 1] = conteo[i]\n",
    "    return (out)"
   ]
  },
  {
   "cell_type": "markdown",
   "metadata": {},
   "source": [
    "# Ejercicio 4\n",
    "Implente una funcion que encuentre las raices de la funcion seno evaluando secuencialmente los valores en $[-8,-4]$. Puedes usar el siguiente código para empezar"
   ]
  },
  {
   "cell_type": "code",
   "execution_count": 68,
   "metadata": {},
   "outputs": [
    {
     "name": "stdout",
     "output_type": "stream",
     "text": [
      "-8.0\n",
      "-7.96\n",
      "-7.92\n",
      "-7.88\n",
      "-7.84\n",
      "-7.8\n",
      "-7.76\n",
      "-7.72\n",
      "-7.68\n",
      "-7.64\n",
      "-7.6\n",
      "-7.56\n",
      "-7.52\n",
      "-7.48\n",
      "-7.4399999999999995\n",
      "-7.4\n",
      "-7.36\n",
      "-7.32\n",
      "-7.28\n",
      "-7.24\n",
      "-7.2\n",
      "-7.16\n",
      "-7.12\n",
      "-7.08\n",
      "-7.04\n",
      "-7.0\n",
      "-6.96\n",
      "-6.92\n",
      "-6.88\n",
      "-6.84\n",
      "-6.8\n",
      "-6.76\n",
      "-6.72\n",
      "-6.68\n",
      "-6.64\n",
      "-6.6\n",
      "-6.5600000000000005\n",
      "-6.52\n",
      "-6.48\n",
      "-6.4399999999999995\n",
      "-6.4\n",
      "-6.36\n",
      "-6.32\n",
      "-6.28\n",
      "-6.24\n",
      "-6.2\n",
      "-6.16\n",
      "-6.12\n",
      "-6.08\n",
      "-6.04\n",
      "-6.0\n",
      "-5.96\n",
      "-5.92\n",
      "-5.88\n",
      "-5.84\n",
      "-5.8\n",
      "-5.76\n",
      "-5.720000000000001\n",
      "-5.68\n",
      "-5.640000000000001\n",
      "-5.6\n",
      "-5.5600000000000005\n",
      "-5.52\n",
      "-5.48\n",
      "-5.4399999999999995\n",
      "-5.4\n",
      "-5.359999999999999\n",
      "-5.32\n",
      "-5.279999999999999\n",
      "-5.24\n",
      "-5.2\n",
      "-5.16\n",
      "-5.12\n",
      "-5.08\n",
      "-5.04\n",
      "-5.0\n",
      "-4.96\n",
      "-4.92\n",
      "-4.88\n",
      "-4.84\n",
      "-4.8\n",
      "-4.76\n",
      "-4.720000000000001\n",
      "-4.68\n",
      "-4.640000000000001\n",
      "-4.6\n",
      "-4.5600000000000005\n",
      "-4.52\n",
      "-4.48\n",
      "-4.4399999999999995\n",
      "-4.4\n",
      "-4.359999999999999\n",
      "-4.32\n",
      "-4.279999999999999\n",
      "-4.24\n",
      "-4.2\n",
      "-4.16\n",
      "-4.12\n",
      "-4.08\n",
      "-4.04\n"
     ]
    }
   ],
   "source": [
    "n = 100\n",
    "for i in range(n):\n",
    "    x =  4*(i/n) -8\n",
    "    print(x)"
   ]
  },
  {
   "cell_type": "code",
   "execution_count": null,
   "metadata": {
    "collapsed": true
   },
   "outputs": [],
   "source": []
  },
  {
   "cell_type": "code",
   "execution_count": null,
   "metadata": {
    "collapsed": true
   },
   "outputs": [],
   "source": []
  }
 ],
 "metadata": {
  "kernelspec": {
   "display_name": "Python 3",
   "language": "python",
   "name": "python3"
  },
  "language_info": {
   "codemirror_mode": {
    "name": "ipython",
    "version": 3
   },
   "file_extension": ".py",
   "mimetype": "text/x-python",
   "name": "python",
   "nbconvert_exporter": "python",
   "pygments_lexer": "ipython3",
   "version": "3.6.3"
  }
 },
 "nbformat": 4,
 "nbformat_minor": 2
}
