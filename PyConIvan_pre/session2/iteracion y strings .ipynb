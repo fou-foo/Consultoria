{
 "cells": [
  {
   "cell_type": "markdown",
   "metadata": {},
   "source": [
    "### Iteración\n",
    "\n",
    "Consiste en realizar los mismos statements con pequeñas diferencias repetitivamente.\n",
    "La sintaxis del bloque para indicar repeticion si no se conoce el número de veces que se debe de repetir es\n",
    "\n",
    "<code>\n",
    "while (expresion_booleana):\n",
    "    statement1\n",
    "    statement2\n",
    "    ...\n",
    "</code>\n",
    "    \n",
    "A veces es util usar la palabra reservada 'break' para salir del while (perro en general es una mala practica), ejemplo:\n"
   ]
  },
  {
   "cell_type": "code",
   "execution_count": 3,
   "metadata": {},
   "outputs": [
    {
     "name": "stdout",
     "output_type": "stream",
     "text": [
      "> \n",
      "Saliste del while!\n"
     ]
    }
   ],
   "source": [
    "while (True):\n",
    "    line = input('> ')\n",
    "    if line == '': #string vacio\n",
    "        break\n",
    "    print(line)\n",
    "print('Saliste del while!')"
   ]
  },
  {
   "cell_type": "markdown",
   "metadata": {},
   "source": [
    "Por otra parte la sintaxis del ciclo de repetición 'for' es \n",
    "\n",
    "<code>\n",
    "for (cosa in lista):\n",
    "    statement1\n",
    "    statement2\n",
    "</code>\n",
    "### esto los hace muy buenos :)\n",
    "'for' se utiliza cuando se conoce de antemano el número de iteraciones o bien sobre que objetos se quiere iterar a \n",
    "diferencia de C donde el for solo sirve para recorrer enteros. Veamos dos ejemplos.\n"
   ]
  },
  {
   "cell_type": "code",
   "execution_count": 4,
   "metadata": {},
   "outputs": [
    {
     "name": "stdout",
     "output_type": "stream",
     "text": [
      "F\n",
      "e\n",
      "b\n",
      "r\n",
      "e\n",
      "r\n",
      "o\n",
      "El item es:enero como palabra tiene: 5 caracteres\n",
      "El item es:febrero como palabra tiene: 7 caracteres\n",
      "El item es:marzo como palabra tiene: 5 caracteres\n",
      "El item es:y los demas como palabra tiene: 11 caracteres\n"
     ]
    }
   ],
   "source": [
    "a = 'Febrero'\n",
    "for i in range(len(a)):\n",
    "    print(a[i])\n",
    "meses = ['enero', 'febrero', 'marzo', 'y los demas']\n",
    "for i in meses:\n",
    "    print( 'El item es:' + i + ' como palabra tiene: ' + str(len(i)) + ' caracteres' )"
   ]
  },
  {
   "cell_type": "markdown",
   "metadata": {
    "collapsed": true
   },
   "source": [
    "# Strings\n",
    "\n",
    "Los strings son cadenas, a.k.a *arrays* , de caracteres. Como en C.\n",
    "Por lo que puedes acceder a sus caracteres por el **index** en python el primer indice de un arreglo comienza en cero, como en C"
   ]
  },
  {
   "cell_type": "code",
   "execution_count": 5,
   "metadata": {},
   "outputs": [
    {
     "name": "stdout",
     "output_type": "stream",
     "text": [
      "f\n"
     ]
    }
   ],
   "source": [
    "a = 'foo fighters'\n",
    "print(a[0])"
   ]
  },
  {
   "cell_type": "markdown",
   "metadata": {},
   "source": [
    "Los **index** solo pueden ser números enteros (hasta negativos)."
   ]
  },
  {
   "cell_type": "code",
   "execution_count": 6,
   "metadata": {},
   "outputs": [
    {
     "name": "stdout",
     "output_type": "stream",
     "text": [
      "s\n",
      "r\n"
     ]
    }
   ],
   "source": [
    "print(a[-1]) #el ultimo \n",
    "print(a[-2]) #el penultimo"
   ]
  },
  {
   "cell_type": "markdown",
   "metadata": {},
   "source": [
    "Algunas funciones utiles sobre strings son:\n",
    "    - 'len()'\n",
    "\n",
    "Algunos métodos de los string son:\n",
    "    - 'upper'\n",
    "    - 'find()'\n",
    "    - 'index()'"
   ]
  },
  {
   "cell_type": "markdown",
   "metadata": {
    "collapsed": true
   },
   "source": [
    "**slide**\n",
    "Es posible recuperar cubcadenas de un string (o de un arreglo) la sintaxis es la siguiente"
   ]
  },
  {
   "cell_type": "code",
   "execution_count": 7,
   "metadata": {},
   "outputs": [
    {
     "name": "stdout",
     "output_type": "stream",
     "text": [
      "12345\n"
     ]
    }
   ],
   "source": [
    "banda = '123456789'\n",
    "print(banda[0:5])\n"
   ]
  },
  {
   "cell_type": "markdown",
   "metadata": {},
   "source": [
    "Se puede omitir el desde el inicio con ':', dejando vacio el lado izquierdo o derecho\n",
    "o al reves!"
   ]
  },
  {
   "cell_type": "code",
   "execution_count": 8,
   "metadata": {},
   "outputs": [
    {
     "name": "stdout",
     "output_type": "stream",
     "text": [
      "1234\n",
      "456789\n",
      "123456789\n",
      "987654321\n"
     ]
    }
   ],
   "source": [
    "print(banda[:4])\n",
    "print(banda[3:])\n",
    "print(banda[:])\n",
    "print(banda[::-1])\n"
   ]
  },
  {
   "cell_type": "code",
   "execution_count": 9,
   "metadata": {
    "collapsed": true
   },
   "outputs": [],
   "source": [
    "def p (x):\n",
    "    return(print(x))"
   ]
  },
  {
   "cell_type": "markdown",
   "metadata": {},
   "source": [
    "**los strings son inmutables**"
   ]
  },
  {
   "cell_type": "code",
   "execution_count": 10,
   "metadata": {},
   "outputs": [
    {
     "ename": "TypeError",
     "evalue": "'str' object does not support item assignment",
     "output_type": "error",
     "traceback": [
      "\u001b[1;31m---------------------------------------------------------------------------\u001b[0m",
      "\u001b[1;31mTypeError\u001b[0m                                 Traceback (most recent call last)",
      "\u001b[1;32m<ipython-input-10-b463965feeb2>\u001b[0m in \u001b[0;36m<module>\u001b[1;34m()\u001b[0m\n\u001b[1;32m----> 1\u001b[1;33m \u001b[0mbanda\u001b[0m\u001b[1;33m[\u001b[0m\u001b[1;36m5\u001b[0m \u001b[1;33m]\u001b[0m \u001b[1;33m=\u001b[0m \u001b[1;34m'*'\u001b[0m\u001b[1;33m\u001b[0m\u001b[0m\n\u001b[0m",
      "\u001b[1;31mTypeError\u001b[0m: 'str' object does not support item assignment"
     ]
    }
   ],
   "source": [
    "banda[5 ] = '*'"
   ]
  },
  {
   "cell_type": "markdown",
   "metadata": {},
   "source": [
    "El slidsing también sirve con listas (una lista puede contener tipos de datos diferentes)."
   ]
  },
  {
   "cell_type": "code",
   "execution_count": 11,
   "metadata": {
    "collapsed": true
   },
   "outputs": [],
   "source": [
    "dias = ['lunes', 1, 'martes', 2, 'miercoles', 3]"
   ]
  },
  {
   "cell_type": "code",
   "execution_count": 12,
   "metadata": {},
   "outputs": [
    {
     "name": "stdout",
     "output_type": "stream",
     "text": [
      "[2, 'miercoles', 3]\n",
      "[3, 'miercoles', 2, 'martes', 1, 'lunes']\n"
     ]
    }
   ],
   "source": [
    "p(dias[3:])\n",
    "p(dias[::-1])"
   ]
  },
  {
   "cell_type": "markdown",
   "metadata": {},
   "source": [
    "### El operador 'in' "
   ]
  },
  {
   "cell_type": "code",
   "execution_count": 13,
   "metadata": {
    "collapsed": true
   },
   "outputs": [],
   "source": [
    "def busqueda(word1, word2):\n",
    "    for i in word1:\n",
    "        if( i in word2):\n",
    "            indice = word2.index(i)\n",
    "            p( 'La letra:' + word1[indice]+ ' aparece en ' + word2+ ' en la posición ' +str(indice) )\n",
    "        else:\n",
    "            p( 'La letra:' + i+ ' no aparece en ' + word2 )\n",
    "            "
   ]
  },
  {
   "cell_type": "code",
   "execution_count": 14,
   "metadata": {},
   "outputs": [
    {
     "name": "stdout",
     "output_type": "stream",
     "text": [
      "La letra:f no aparece en lo que tu quieras\n",
      "La letra:o aparece en lo que tu quieras en la posición 1\n",
      "La letra:o aparece en lo que tu quieras en la posición 1\n",
      "La letra:f no aparece en lo que tu quieras\n"
     ]
    }
   ],
   "source": [
    "busqueda('foof', 'lo que tu quieras')"
   ]
  },
  {
   "cell_type": "markdown",
   "metadata": {},
   "source": [
    "### Algoritmos \n",
    "\n",
    "Encontrar las raices de una función es un problema matemático dificíl. Por ejemplo considere las dos formas de encontrar en donde vale sero una función, por ejemplo $sen()$ en el intervalo $[1, 6]$.\n",
    "El siguiente algoritmo corre en tiempo logaritmico se llama busqueda binaria:"
   ]
  },
  {
   "cell_type": "code",
   "execution_count": 15,
   "metadata": {
    "collapsed": true
   },
   "outputs": [],
   "source": [
    "def f(x):\n",
    "    import math\n",
    "    return(math.sin(x))\n",
    "\n",
    "def biseccion(inf, sup, funcion, iteraciones, error ):\n",
    "    if( funcion(inf) < 0 ):\n",
    "        negativo = inf\n",
    "        positivo = sup\n",
    "    else:\n",
    "        negativo = sup\n",
    "        positivo = inf\n",
    "    x = (positivo + negativo)/2\n",
    "    contador = 0\n",
    "    while( (abs(f(x)) > error) or (contador <= iteraciones)):\n",
    "        if(funcion(x) < 0):\n",
    "            negativo = x\n",
    "        else:\n",
    "            positivo = x        \n",
    "        x = (positivo + negativo)/2\n",
    "        contador = contador + 1\n",
    "    return([ ('x',x) , ('f(x)', f(x)), ('iteraciones', contador) ])\n",
    "            \n",
    "        "
   ]
  },
  {
   "cell_type": "code",
   "execution_count": 16,
   "metadata": {},
   "outputs": [
    {
     "data": {
      "text/plain": [
       "[('x', 3.141592653589793),\n",
       " ('f(x)', 1.2246467991473532e-16),\n",
       " ('iteraciones', 502)]"
      ]
     },
     "execution_count": 16,
     "metadata": {},
     "output_type": "execute_result"
    }
   ],
   "source": [
    "biseccion(1,6,f,501,.0001)"
   ]
  },
  {
   "cell_type": "code",
   "execution_count": 31,
   "metadata": {},
   "outputs": [
    {
     "name": "stdout",
     "output_type": "stream",
     "text": [
      "-8.0\n",
      "-7.96\n",
      "-7.92\n",
      "-7.88\n",
      "-7.84\n",
      "-7.8\n",
      "-7.76\n",
      "-7.72\n",
      "-7.68\n",
      "-7.64\n",
      "-7.6\n",
      "-7.56\n",
      "-7.52\n",
      "-7.48\n",
      "-7.4399999999999995\n",
      "-7.4\n",
      "-7.36\n",
      "-7.32\n",
      "-7.28\n",
      "-7.24\n",
      "-7.2\n",
      "-7.16\n",
      "-7.12\n",
      "-7.08\n",
      "-7.04\n",
      "-7.0\n",
      "-6.96\n",
      "-6.92\n",
      "-6.88\n",
      "-6.84\n",
      "-6.8\n",
      "-6.76\n",
      "-6.72\n",
      "-6.68\n",
      "-6.64\n",
      "-6.6\n",
      "-6.5600000000000005\n",
      "-6.52\n",
      "-6.48\n",
      "-6.4399999999999995\n",
      "-6.4\n",
      "-6.36\n",
      "-6.32\n",
      "-6.28\n",
      "-6.24\n",
      "-6.2\n",
      "-6.16\n",
      "-6.12\n",
      "-6.08\n",
      "-6.04\n",
      "-6.0\n",
      "-5.96\n",
      "-5.92\n",
      "-5.88\n",
      "-5.84\n",
      "-5.8\n",
      "-5.76\n",
      "-5.720000000000001\n",
      "-5.68\n",
      "-5.640000000000001\n",
      "-5.6\n",
      "-5.5600000000000005\n",
      "-5.52\n",
      "-5.48\n",
      "-5.4399999999999995\n",
      "-5.4\n",
      "-5.359999999999999\n",
      "-5.32\n",
      "-5.279999999999999\n",
      "-5.24\n",
      "-5.2\n",
      "-5.16\n",
      "-5.12\n",
      "-5.08\n",
      "-5.04\n",
      "-5.0\n",
      "-4.96\n",
      "-4.92\n",
      "-4.88\n",
      "-4.84\n",
      "-4.8\n",
      "-4.76\n",
      "-4.720000000000001\n",
      "-4.68\n",
      "-4.640000000000001\n",
      "-4.6\n",
      "-4.5600000000000005\n",
      "-4.52\n",
      "-4.48\n",
      "-4.4399999999999995\n",
      "-4.4\n",
      "-4.359999999999999\n",
      "-4.32\n",
      "-4.279999999999999\n",
      "-4.24\n",
      "-4.2\n",
      "-4.16\n",
      "-4.12\n",
      "-4.08\n",
      "-4.04\n"
     ]
    }
   ],
   "source": []
  },
  {
   "cell_type": "markdown",
   "metadata": {},
   "source": [
    "Búsqueda de una subcadena en una cadena (*caso de estudio*)."
   ]
  },
  {
   "cell_type": "code",
   "execution_count": null,
   "metadata": {
    "collapsed": true
   },
   "outputs": [],
   "source": []
  }
 ],
 "metadata": {
  "kernelspec": {
   "display_name": "Python 3",
   "language": "python",
   "name": "python3"
  },
  "language_info": {
   "codemirror_mode": {
    "name": "ipython",
    "version": 3
   },
   "file_extension": ".py",
   "mimetype": "text/x-python",
   "name": "python",
   "nbconvert_exporter": "python",
   "pygments_lexer": "ipython3",
   "version": "3.6.3"
  }
 },
 "nbformat": 4,
 "nbformat_minor": 2
}
